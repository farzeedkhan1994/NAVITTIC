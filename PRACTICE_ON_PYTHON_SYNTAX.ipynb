{
  "nbformat": 4,
  "nbformat_minor": 0,
  "metadata": {
    "kernelspec": {
      "display_name": "Python 3",
      "language": "python",
      "name": "python3"
    },
    "language_info": {
      "codemirror_mode": {
        "name": "ipython",
        "version": 3
      },
      "file_extension": ".py",
      "mimetype": "text/x-python",
      "name": "python",
      "nbconvert_exporter": "python",
      "pygments_lexer": "ipython3",
      "version": "3.7.6"
    },
    "colab": {
      "name": "PRACTICE ON PYTHON SYNTAX.ipynb",
      "provenance": [],
      "include_colab_link": true
    }
  },
  "cells": [
    {
      "cell_type": "markdown",
      "metadata": {
        "id": "view-in-github",
        "colab_type": "text"
      },
      "source": [
        "<a href=\"https://colab.research.google.com/github/fk7233577/FK7233577/blob/main/PRACTICE_ON_PYTHON_SYNTAX.ipynb\" target=\"_parent\"><img src=\"https://colab.research.google.com/assets/colab-badge.svg\" alt=\"Open In Colab\"/></a>"
      ]
    },
    {
      "cell_type": "code",
      "metadata": {
        "id": "-P1rMY12BIxy"
      },
      "source": [
        "isclass= True"
      ],
      "execution_count": null,
      "outputs": []
    },
    {
      "cell_type": "code",
      "metadata": {
        "id": "RPhDm4a-BIx6",
        "outputId": "6ebd4dfb-e7c6-4fe3-ccfe-22fb4c41d68a"
      },
      "source": [
        "type(isclass)"
      ],
      "execution_count": null,
      "outputs": [
        {
          "output_type": "execute_result",
          "data": {
            "text/plain": [
              "bool"
            ]
          },
          "metadata": {
            "tags": []
          },
          "execution_count": 4
        }
      ]
    },
    {
      "cell_type": "code",
      "metadata": {
        "id": "cfXryuRyBIx-"
      },
      "source": [
        "string= \"pakistan\""
      ],
      "execution_count": null,
      "outputs": []
    },
    {
      "cell_type": "code",
      "metadata": {
        "id": "Y_cZ8K2CBIx_",
        "outputId": "97725143-6b3e-433a-eeeb-f966dedb8fe2"
      },
      "source": [
        "type(string)"
      ],
      "execution_count": null,
      "outputs": [
        {
          "output_type": "execute_result",
          "data": {
            "text/plain": [
              "str"
            ]
          },
          "metadata": {
            "tags": []
          },
          "execution_count": 6
        }
      ]
    },
    {
      "cell_type": "code",
      "metadata": {
        "id": "tvSKCQrHBIyB"
      },
      "source": [
        "gpa= 3.6"
      ],
      "execution_count": null,
      "outputs": []
    },
    {
      "cell_type": "code",
      "metadata": {
        "id": "YrNoNNShBIyC",
        "outputId": "f43a049b-7d42-4eaf-9074-49da52145667"
      },
      "source": [
        "type(gpa)"
      ],
      "execution_count": null,
      "outputs": [
        {
          "output_type": "execute_result",
          "data": {
            "text/plain": [
              "float"
            ]
          },
          "metadata": {
            "tags": []
          },
          "execution_count": 8
        }
      ]
    },
    {
      "cell_type": "code",
      "metadata": {
        "id": "GFOHwbhuBIyD",
        "outputId": "59741432-c310-4190-ed4c-1232a79362ce"
      },
      "source": [
        "356+890"
      ],
      "execution_count": null,
      "outputs": [
        {
          "output_type": "execute_result",
          "data": {
            "text/plain": [
              "1246"
            ]
          },
          "metadata": {
            "tags": []
          },
          "execution_count": 9
        }
      ]
    },
    {
      "cell_type": "code",
      "metadata": {
        "id": "lYLoMhoNBIyF",
        "outputId": "b3a9bf99-0137-4825-a078-9e224232267b"
      },
      "source": [
        "900-1200"
      ],
      "execution_count": null,
      "outputs": [
        {
          "output_type": "execute_result",
          "data": {
            "text/plain": [
              "-300"
            ]
          },
          "metadata": {
            "tags": []
          },
          "execution_count": 10
        }
      ]
    },
    {
      "cell_type": "code",
      "metadata": {
        "id": "xw72UhdEBIyG",
        "outputId": "2f25b56c-5638-4eb4-d1b3-7cd67c054717"
      },
      "source": [
        "49.900-49.9"
      ],
      "execution_count": null,
      "outputs": [
        {
          "output_type": "execute_result",
          "data": {
            "text/plain": [
              "0.0"
            ]
          },
          "metadata": {
            "tags": []
          },
          "execution_count": 11
        }
      ]
    },
    {
      "cell_type": "code",
      "metadata": {
        "id": "7ylBalvXBIyH",
        "outputId": "cdc7debc-e2f0-41c7-fbe0-78dfd2a66a4f"
      },
      "source": [
        "4*9"
      ],
      "execution_count": null,
      "outputs": [
        {
          "output_type": "execute_result",
          "data": {
            "text/plain": [
              "36"
            ]
          },
          "metadata": {
            "tags": []
          },
          "execution_count": 12
        }
      ]
    },
    {
      "cell_type": "code",
      "metadata": {
        "id": "V0tw4ZPeBIyJ",
        "outputId": "c8063e4f-1bbc-4721-dd9e-2e1c65cc9417"
      },
      "source": [
        "400/600"
      ],
      "execution_count": null,
      "outputs": [
        {
          "output_type": "execute_result",
          "data": {
            "text/plain": [
              "0.6666666666666666"
            ]
          },
          "metadata": {
            "tags": []
          },
          "execution_count": 13
        }
      ]
    },
    {
      "cell_type": "code",
      "metadata": {
        "id": "h37tKIrzBIyJ",
        "outputId": "45f37628-f623-454b-95bb-0ab673186abf"
      },
      "source": [
        "23/8"
      ],
      "execution_count": null,
      "outputs": [
        {
          "output_type": "execute_result",
          "data": {
            "text/plain": [
              "2.875"
            ]
          },
          "metadata": {
            "tags": []
          },
          "execution_count": 14
        }
      ]
    },
    {
      "cell_type": "code",
      "metadata": {
        "id": "JtqN0ScKBIyK",
        "outputId": "a8324264-8385-4785-e23b-92f93c61397f"
      },
      "source": [
        "899//90"
      ],
      "execution_count": null,
      "outputs": [
        {
          "output_type": "execute_result",
          "data": {
            "text/plain": [
              "9"
            ]
          },
          "metadata": {
            "tags": []
          },
          "execution_count": 15
        }
      ]
    },
    {
      "cell_type": "code",
      "metadata": {
        "id": "UoOq8ftUBIyL",
        "outputId": "8da1a9bf-486c-49c7-877f-7d19f71ec97a"
      },
      "source": [
        "99//7"
      ],
      "execution_count": null,
      "outputs": [
        {
          "output_type": "execute_result",
          "data": {
            "text/plain": [
              "14"
            ]
          },
          "metadata": {
            "tags": []
          },
          "execution_count": 16
        }
      ]
    },
    {
      "cell_type": "code",
      "metadata": {
        "id": "xxx23Mu2BIyM",
        "outputId": "e2c85a11-da39-42fc-d916-fedb40c8e027"
      },
      "source": [
        "342//9"
      ],
      "execution_count": null,
      "outputs": [
        {
          "output_type": "execute_result",
          "data": {
            "text/plain": [
              "38"
            ]
          },
          "metadata": {
            "tags": []
          },
          "execution_count": 18
        }
      ]
    },
    {
      "cell_type": "code",
      "metadata": {
        "id": "TaWFG8xIBIyN",
        "outputId": "c9ac728b-438a-4c17-f86f-33aeaa845929"
      },
      "source": [
        "# % is used for integer divison\n",
        "45%22"
      ],
      "execution_count": null,
      "outputs": [
        {
          "output_type": "execute_result",
          "data": {
            "text/plain": [
              "4"
            ]
          },
          "metadata": {
            "tags": []
          },
          "execution_count": 19
        }
      ]
    },
    {
      "cell_type": "code",
      "metadata": {
        "id": "rE-O__2VBIyO",
        "outputId": "82633a97-40fa-4465-ff7d-881a24ce0720"
      },
      "source": [
        "5000%30"
      ],
      "execution_count": null,
      "outputs": [
        {
          "output_type": "execute_result",
          "data": {
            "text/plain": [
              "20"
            ]
          },
          "metadata": {
            "tags": []
          },
          "execution_count": 22
        }
      ]
    },
    {
      "cell_type": "code",
      "metadata": {
        "id": "3nEjk2VhBIyP",
        "outputId": "41a508cc-de4d-4630-ee87-d6d55827072d"
      },
      "source": [
        "500%3"
      ],
      "execution_count": null,
      "outputs": [
        {
          "output_type": "execute_result",
          "data": {
            "text/plain": [
              "2"
            ]
          },
          "metadata": {
            "tags": []
          },
          "execution_count": 21
        }
      ]
    },
    {
      "cell_type": "code",
      "metadata": {
        "id": "2Lb-Ll94BIyP",
        "outputId": "57f6b5fa-3c90-4828-88b5-ce5e837565b8"
      },
      "source": [
        "5000%30"
      ],
      "execution_count": null,
      "outputs": [
        {
          "output_type": "execute_result",
          "data": {
            "text/plain": [
              "20"
            ]
          },
          "metadata": {
            "tags": []
          },
          "execution_count": 23
        }
      ]
    },
    {
      "cell_type": "code",
      "metadata": {
        "id": "SIQxyeM-BIyQ",
        "outputId": "a2e4cd47-5b88-4e8e-a17b-67aa5845d802"
      },
      "source": [
        "5000 % 40"
      ],
      "execution_count": null,
      "outputs": [
        {
          "output_type": "execute_result",
          "data": {
            "text/plain": [
              "0"
            ]
          },
          "metadata": {
            "tags": []
          },
          "execution_count": 24
        }
      ]
    },
    {
      "cell_type": "code",
      "metadata": {
        "id": "02xtDmX5BIyQ",
        "outputId": "6765ef23-214e-48bd-8c14-fd530dd1fe2a"
      },
      "source": [
        "4*4"
      ],
      "execution_count": null,
      "outputs": [
        {
          "output_type": "execute_result",
          "data": {
            "text/plain": [
              "16"
            ]
          },
          "metadata": {
            "tags": []
          },
          "execution_count": 25
        }
      ]
    },
    {
      "cell_type": "code",
      "metadata": {
        "id": "is4dSZ4SBIyR",
        "outputId": "b5cd8f60-fb78-4890-f433-e66e474aaa7b"
      },
      "source": [
        "4**4"
      ],
      "execution_count": null,
      "outputs": [
        {
          "output_type": "execute_result",
          "data": {
            "text/plain": [
              "256"
            ]
          },
          "metadata": {
            "tags": []
          },
          "execution_count": 26
        }
      ]
    },
    {
      "cell_type": "code",
      "metadata": {
        "id": "1b5RFhmmBIyS",
        "outputId": "d7abe60a-10e0-4d63-9c55-635b265788ec"
      },
      "source": [
        "3**3"
      ],
      "execution_count": null,
      "outputs": [
        {
          "output_type": "execute_result",
          "data": {
            "text/plain": [
              "27"
            ]
          },
          "metadata": {
            "tags": []
          },
          "execution_count": 27
        }
      ]
    },
    {
      "cell_type": "code",
      "metadata": {
        "id": "GPPY4VLXBIyS",
        "outputId": "3a762a3e-50d6-4fbe-fcc8-6534d14779ae"
      },
      "source": [
        "-5 >-4"
      ],
      "execution_count": null,
      "outputs": [
        {
          "output_type": "execute_result",
          "data": {
            "text/plain": [
              "False"
            ]
          },
          "metadata": {
            "tags": []
          },
          "execution_count": 29
        }
      ]
    },
    {
      "cell_type": "code",
      "metadata": {
        "id": "RQeySNu3BIyT",
        "outputId": "68aea9dc-da13-489a-b013-1328de5bf692"
      },
      "source": [
        "-5 < -4"
      ],
      "execution_count": null,
      "outputs": [
        {
          "output_type": "execute_result",
          "data": {
            "text/plain": [
              "True"
            ]
          },
          "metadata": {
            "tags": []
          },
          "execution_count": 30
        }
      ]
    },
    {
      "cell_type": "code",
      "metadata": {
        "id": "QZhhL9LbBIyU",
        "outputId": "5711bca0-25e5-4e95-8902-9f5c09e83be7"
      },
      "source": [
        "-7 <= -6"
      ],
      "execution_count": null,
      "outputs": [
        {
          "output_type": "execute_result",
          "data": {
            "text/plain": [
              "True"
            ]
          },
          "metadata": {
            "tags": []
          },
          "execution_count": 31
        }
      ]
    },
    {
      "cell_type": "code",
      "metadata": {
        "id": "lzXnR4jOBIyV",
        "outputId": "d6d8c126-3865-431d-e0a5-10f13bbb6a80"
      },
      "source": [
        "-8 <= -9"
      ],
      "execution_count": null,
      "outputs": [
        {
          "output_type": "execute_result",
          "data": {
            "text/plain": [
              "False"
            ]
          },
          "metadata": {
            "tags": []
          },
          "execution_count": 32
        }
      ]
    },
    {
      "cell_type": "code",
      "metadata": {
        "id": "aPkrxPKsBIyV",
        "outputId": "a4c03574-2615-4221-e5f7-1ff645b1b79f"
      },
      "source": [
        "-8 >= -9"
      ],
      "execution_count": null,
      "outputs": [
        {
          "output_type": "execute_result",
          "data": {
            "text/plain": [
              "True"
            ]
          },
          "metadata": {
            "tags": []
          },
          "execution_count": 35
        }
      ]
    },
    {
      "cell_type": "code",
      "metadata": {
        "id": "2uRdB35aBIyW",
        "outputId": "a54e97a1-9955-4cde-e53f-3b29c43b6dc0"
      },
      "source": [
        "\"Hello\" == \"Hello\""
      ],
      "execution_count": null,
      "outputs": [
        {
          "output_type": "execute_result",
          "data": {
            "text/plain": [
              "True"
            ]
          },
          "metadata": {
            "tags": []
          },
          "execution_count": 38
        }
      ]
    },
    {
      "cell_type": "code",
      "metadata": {
        "id": "3YFAItfsBIyX",
        "outputId": "c69d34ab-f25f-4e6f-824e-acd46098d546"
      },
      "source": [
        "\"HELLO\" != \"hello\""
      ],
      "execution_count": null,
      "outputs": [
        {
          "output_type": "execute_result",
          "data": {
            "text/plain": [
              "True"
            ]
          },
          "metadata": {
            "tags": []
          },
          "execution_count": 39
        }
      ]
    },
    {
      "cell_type": "markdown",
      "metadata": {
        "id": "O3kxL3ZUBIyX"
      },
      "source": [
        "# Boolean Operators"
      ]
    },
    {
      "cell_type": "code",
      "metadata": {
        "id": "3vZ1wb5_BIyX",
        "outputId": "d6b343c9-e499-4183-cb55-d9452f3092b5"
      },
      "source": [
        "(5>6) or (1!=1)"
      ],
      "execution_count": null,
      "outputs": [
        {
          "output_type": "execute_result",
          "data": {
            "text/plain": [
              "False"
            ]
          },
          "metadata": {
            "tags": []
          },
          "execution_count": 41
        }
      ]
    },
    {
      "cell_type": "code",
      "metadata": {
        "id": "hR2S9fVkBIyY",
        "outputId": "0edaacc5-fa15-4f3b-8844-a2fc1aca05f7"
      },
      "source": [
        "(5<6) and (6>2)"
      ],
      "execution_count": null,
      "outputs": [
        {
          "output_type": "execute_result",
          "data": {
            "text/plain": [
              "True"
            ]
          },
          "metadata": {
            "tags": []
          },
          "execution_count": 42
        }
      ]
    },
    {
      "cell_type": "code",
      "metadata": {
        "id": "_hDETC5ABIyZ"
      },
      "source": [
        "play= True"
      ],
      "execution_count": null,
      "outputs": []
    },
    {
      "cell_type": "code",
      "metadata": {
        "id": "cy_hnB0iBIyd",
        "outputId": "73c92219-4c5b-4b18-e400-8e881a638974"
      },
      "source": [
        "not play"
      ],
      "execution_count": null,
      "outputs": [
        {
          "output_type": "execute_result",
          "data": {
            "text/plain": [
              "False"
            ]
          },
          "metadata": {
            "tags": []
          },
          "execution_count": 44
        }
      ]
    },
    {
      "cell_type": "code",
      "metadata": {
        "id": "IJ_k6b2RBIye",
        "outputId": "10110d34-ac1a-49ea-b89b-0a031a2be23b"
      },
      "source": [
        "(8>7) and (7>=6) or (4<3)"
      ],
      "execution_count": null,
      "outputs": [
        {
          "output_type": "execute_result",
          "data": {
            "text/plain": [
              "True"
            ]
          },
          "metadata": {
            "tags": []
          },
          "execution_count": 47
        }
      ]
    },
    {
      "cell_type": "code",
      "metadata": {
        "colab": {
          "base_uri": "https://localhost:8080/"
        },
        "id": "VtZHtM0GBIye",
        "outputId": "69f1eff4-4371-4c08-b1e6-5dbd19eef50c"
      },
      "source": [
        "Name= input(\"Enter Your Name:\")\n",
        "Address= input(\"Enter Your Current Address:\")\n",
        "print(\"NAME:\", Name,\"\\nADDRESS:\",Address)\n",
        " \n",
        "\n"
      ],
      "execution_count": 5,
      "outputs": [
        {
          "output_type": "stream",
          "text": [
            "Enter Your Name:sfds\n",
            "Enter Your Current Address:fsd\n",
            "NAME: sfds \n",
            "ADDRESS: fsd\n"
          ],
          "name": "stdout"
        }
      ]
    },
    {
      "cell_type": "code",
      "metadata": {
        "id": "YmLHmCRXEF8Z"
      },
      "source": [
        ""
      ],
      "execution_count": null,
      "outputs": []
    },
    {
      "cell_type": "markdown",
      "metadata": {
        "id": "HRRvThczEJC1"
      },
      "source": [
        "#Calculator\n"
      ]
    },
    {
      "cell_type": "code",
      "metadata": {
        "colab": {
          "base_uri": "https://localhost:8080/"
        },
        "id": "VbPSzlzKEPIK",
        "outputId": "f27c2cd5-f2ff-41aa-896c-b1ab42b24252"
      },
      "source": [
        "First_Number= input(\"Enter First Number:\")\n",
        "Second_Number= input(\"Enter Second Number\")\n",
        "\n",
        "#Sumation\n",
        "sum= float(First_Number) + float(Second_Number)\n",
        "#print(\"Summation\",sum)\n",
        "\n",
        "\n",
        "#Subraction\n",
        "sub= float(First_Number) - float(Second_Number)\n",
        "#print(\"Subraction\",sub)\n",
        "\n",
        "\n",
        "#Division\n",
        "division= int(First_Number) % int(Second_Number)\n",
        "#print(\"Division\",division)\n",
        "\n",
        "\n",
        "#Multiplication\n",
        "Mul= float(First_Number) * float(Second_Number)\n",
        "#print(\"Multiplication\",Mul)\n",
        "\n",
        "print(\"Sum:\",sum,\"\\nSub:\",sub,\"\\n Division:\",division,\"\\n Multiplication:\",Mul)\n"
      ],
      "execution_count": 19,
      "outputs": [
        {
          "output_type": "stream",
          "text": [
            "Enter First Number:20\n",
            "Enter Second Number10\n",
            "Sum: 30.0 \n",
            "Sub: 10.0 \n",
            " Division: 0 \n",
            " Multiplication: 200.0\n"
          ],
          "name": "stdout"
        }
      ]
    },
    {
      "cell_type": "code",
      "metadata": {
        "colab": {
          "base_uri": "https://localhost:8080/"
        },
        "id": "UDezyTGOFLSt",
        "outputId": "7733cfe9-e202-453f-8a33-d096eee7f9bd"
      },
      "source": [
        "11111"
      ],
      "execution_count": 16,
      "outputs": [
        {
          "output_type": "execute_result",
          "data": {
            "text/plain": [
              "1111"
            ]
          },
          "metadata": {
            "tags": []
          },
          "execution_count": 16
        }
      ]
    },
    {
      "cell_type": "code",
      "metadata": {
        "colab": {
          "base_uri": "https://localhost:8080/",
          "height": 128
        },
        "id": "Tm52C23QIU34",
        "outputId": "61954e1b-273f-48ae-af01-d00ba7922e79"
      },
      "source": [
        "a= input(\"Enter a value\")\n",
        "if a== 100:\n",
        "   print(\"Equal to 100\")\n",
        "   else: print(\"Not Equal to 100\")\n"
      ],
      "execution_count": 6,
      "outputs": [
        {
          "output_type": "error",
          "ename": "SyntaxError",
          "evalue": "ignored",
          "traceback": [
            "\u001b[0;36m  File \u001b[0;32m\"<ipython-input-6-9008fe26c0f9>\"\u001b[0;36m, line \u001b[0;32m4\u001b[0m\n\u001b[0;31m    else: print(\"Not Equal to 100\")\u001b[0m\n\u001b[0m       ^\u001b[0m\n\u001b[0;31mSyntaxError\u001b[0m\u001b[0;31m:\u001b[0m invalid syntax\n"
          ]
        }
      ]
    },
    {
      "cell_type": "code",
      "metadata": {
        "id": "apeLBnljORsG"
      },
      "source": [
        ""
      ],
      "execution_count": null,
      "outputs": []
    }
  ]
}